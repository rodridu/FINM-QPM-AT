{
 "cells": [
  {
   "cell_type": "code",
   "execution_count": null,
   "id": "3f5eba1a",
   "metadata": {},
   "outputs": [],
   "source": [
    "from sklearn.linear_model import LogisticRegression\n",
    "import random\n",
    "import pandas\n",
    "random.seed(1)\n",
    "import sys\n",
    "NUM_DAY_TO_TRAIN = 100\n",
    "TOTAL_DAYS = 1000\n",
    "\n",
    "\n",
    "def send_buy_order():\n",
    "    print (\"send\")\n",
    "\n",
    "def send_sell_order():\n",
    "    print (\"sell\")\n",
    "\n",
    "class strategy:\n",
    "    def __init__(self):\n",
    "        self.list_of_market_data = []\n",
    "        self.count_day = 0\n",
    "        self.model = None\n",
    "    def onPriceUpdate(self,data):\n",
    "        self.count_day += 1\n",
    "        self.list_of_market_data.append(data)\n",
    "        print(data)\n",
    "        if self.count_day==NUM_DAY_TO_TRAIN:\n",
    "            df=pandas.DataFrame({ 'price' : [el['price'] for el in self.list_of_market_data],\n",
    "                                  'open' : [el['open'] for el in self.list_of_market_data],\n",
    "                                  'close' : [el['close'] for el in self.list_of_market_data],\n",
    "                                  'volume' : [el['volume'] for el in self.list_of_market_data]})\n",
    "            df['output']=int(df['price']<df.shift(1)['price'])\n",
    "            self.model = LogisticRegression()\n",
    "            self.model.train(df['price','open','close','volume'],df['output'])\n",
    "        if self.count_day>=NUM_DAY_TO_TRAIN:\n",
    "            signal=self.model.predict(pandas.Dataframe(data))\n",
    "            #signal will have either 0 or 1\n",
    "            if signal == 0:\n",
    "                send_buy_order()\n",
    "            elif signal == 1:\n",
    "                send_sell_order()    \n",
    "\n",
    "        \n",
    "\n",
    "\n",
    "\n",
    "s1=strategy()\n",
    "for i in range(TOTAL_DAYS):\n",
    "    s1.onPriceUpdate({'date' : i,\n",
    "                   'price' : random.randint(10,20),\n",
    "                  'open' : random.randint(10,20),\n",
    "                   'close': random.randint(10, 20),\n",
    "                   'volume': random.randint(100, 300)* 1000,\n",
    "                   }\n",
    "                  )"
   ]
  }
 ],
 "metadata": {
  "kernelspec": {
   "display_name": "Python 3 (ipykernel)",
   "language": "python",
   "name": "python3"
  },
  "language_info": {
   "codemirror_mode": {
    "name": "ipython",
    "version": 3
   },
   "file_extension": ".py",
   "mimetype": "text/x-python",
   "name": "python",
   "nbconvert_exporter": "python",
   "pygments_lexer": "ipython3",
   "version": "3.9.12"
  }
 },
 "nbformat": 4,
 "nbformat_minor": 5
}
