{
 "cells": [
  {
   "cell_type": "code",
   "execution_count": 1,
   "id": "ebf164cb",
   "metadata": {},
   "outputs": [],
   "source": [
    "import pandas as pd\n",
    "import numpy as np\n",
    "import math"
   ]
  },
  {
   "cell_type": "code",
   "execution_count": 4,
   "id": "1625b9db",
   "metadata": {},
   "outputs": [
    {
     "data": {
      "text/html": [
       "<div>\n",
       "<style scoped>\n",
       "    .dataframe tbody tr th:only-of-type {\n",
       "        vertical-align: middle;\n",
       "    }\n",
       "\n",
       "    .dataframe tbody tr th {\n",
       "        vertical-align: top;\n",
       "    }\n",
       "\n",
       "    .dataframe thead th {\n",
       "        text-align: right;\n",
       "    }\n",
       "</style>\n",
       "<table border=\"1\" class=\"dataframe\">\n",
       "  <thead>\n",
       "    <tr style=\"text-align: right;\">\n",
       "      <th></th>\n",
       "      <th>BWX</th>\n",
       "      <th>DBC</th>\n",
       "      <th>EEM</th>\n",
       "      <th>EFA</th>\n",
       "      <th>HYG</th>\n",
       "      <th>IEF</th>\n",
       "      <th>IYR</th>\n",
       "      <th>PSP</th>\n",
       "      <th>QAI</th>\n",
       "      <th>SPY</th>\n",
       "      <th>TIP</th>\n",
       "    </tr>\n",
       "  </thead>\n",
       "  <tbody>\n",
       "    <tr>\n",
       "      <th>BWX</th>\n",
       "      <td>0.000488</td>\n",
       "      <td>0.000382</td>\n",
       "      <td>0.000750</td>\n",
       "      <td>0.000573</td>\n",
       "      <td>0.000278</td>\n",
       "      <td>0.000118</td>\n",
       "      <td>0.000453</td>\n",
       "      <td>0.000673</td>\n",
       "      <td>0.000193</td>\n",
       "      <td>0.000364</td>\n",
       "      <td>0.000160</td>\n",
       "    </tr>\n",
       "    <tr>\n",
       "      <th>DBC</th>\n",
       "      <td>0.000382</td>\n",
       "      <td>0.002734</td>\n",
       "      <td>0.001635</td>\n",
       "      <td>0.001407</td>\n",
       "      <td>0.000602</td>\n",
       "      <td>-0.000366</td>\n",
       "      <td>0.000788</td>\n",
       "      <td>0.001599</td>\n",
       "      <td>0.000391</td>\n",
       "      <td>0.001068</td>\n",
       "      <td>0.000052</td>\n",
       "    </tr>\n",
       "    <tr>\n",
       "      <th>EEM</th>\n",
       "      <td>0.000750</td>\n",
       "      <td>0.001635</td>\n",
       "      <td>0.003110</td>\n",
       "      <td>0.002200</td>\n",
       "      <td>0.001030</td>\n",
       "      <td>-0.000240</td>\n",
       "      <td>0.001778</td>\n",
       "      <td>0.002789</td>\n",
       "      <td>0.000624</td>\n",
       "      <td>0.001707</td>\n",
       "      <td>0.000171</td>\n",
       "    </tr>\n",
       "    <tr>\n",
       "      <th>EFA</th>\n",
       "      <td>0.000573</td>\n",
       "      <td>0.001407</td>\n",
       "      <td>0.002200</td>\n",
       "      <td>0.002145</td>\n",
       "      <td>0.000867</td>\n",
       "      <td>-0.000244</td>\n",
       "      <td>0.001640</td>\n",
       "      <td>0.002630</td>\n",
       "      <td>0.000540</td>\n",
       "      <td>0.001654</td>\n",
       "      <td>0.000097</td>\n",
       "    </tr>\n",
       "    <tr>\n",
       "      <th>HYG</th>\n",
       "      <td>0.000278</td>\n",
       "      <td>0.000602</td>\n",
       "      <td>0.001030</td>\n",
       "      <td>0.000867</td>\n",
       "      <td>0.000613</td>\n",
       "      <td>-0.000066</td>\n",
       "      <td>0.000964</td>\n",
       "      <td>0.001263</td>\n",
       "      <td>0.000259</td>\n",
       "      <td>0.000752</td>\n",
       "      <td>0.000076</td>\n",
       "    </tr>\n",
       "    <tr>\n",
       "      <th>IEF</th>\n",
       "      <td>0.000118</td>\n",
       "      <td>-0.000366</td>\n",
       "      <td>-0.000240</td>\n",
       "      <td>-0.000244</td>\n",
       "      <td>-0.000066</td>\n",
       "      <td>0.000286</td>\n",
       "      <td>-0.000053</td>\n",
       "      <td>-0.000320</td>\n",
       "      <td>-0.000020</td>\n",
       "      <td>-0.000228</td>\n",
       "      <td>0.000147</td>\n",
       "    </tr>\n",
       "    <tr>\n",
       "      <th>IYR</th>\n",
       "      <td>0.000453</td>\n",
       "      <td>0.000788</td>\n",
       "      <td>0.001778</td>\n",
       "      <td>0.001640</td>\n",
       "      <td>0.000964</td>\n",
       "      <td>-0.000053</td>\n",
       "      <td>0.002784</td>\n",
       "      <td>0.002439</td>\n",
       "      <td>0.000452</td>\n",
       "      <td>0.001581</td>\n",
       "      <td>0.000202</td>\n",
       "    </tr>\n",
       "    <tr>\n",
       "      <th>PSP</th>\n",
       "      <td>0.000673</td>\n",
       "      <td>0.001599</td>\n",
       "      <td>0.002789</td>\n",
       "      <td>0.002630</td>\n",
       "      <td>0.001263</td>\n",
       "      <td>-0.000320</td>\n",
       "      <td>0.002439</td>\n",
       "      <td>0.003932</td>\n",
       "      <td>0.000719</td>\n",
       "      <td>0.002311</td>\n",
       "      <td>0.000146</td>\n",
       "    </tr>\n",
       "    <tr>\n",
       "      <th>QAI</th>\n",
       "      <td>0.000193</td>\n",
       "      <td>0.000391</td>\n",
       "      <td>0.000624</td>\n",
       "      <td>0.000540</td>\n",
       "      <td>0.000259</td>\n",
       "      <td>-0.000020</td>\n",
       "      <td>0.000452</td>\n",
       "      <td>0.000719</td>\n",
       "      <td>0.000195</td>\n",
       "      <td>0.000474</td>\n",
       "      <td>0.000067</td>\n",
       "    </tr>\n",
       "    <tr>\n",
       "      <th>SPY</th>\n",
       "      <td>0.000364</td>\n",
       "      <td>0.001068</td>\n",
       "      <td>0.001707</td>\n",
       "      <td>0.001654</td>\n",
       "      <td>0.000752</td>\n",
       "      <td>-0.000228</td>\n",
       "      <td>0.001581</td>\n",
       "      <td>0.002311</td>\n",
       "      <td>0.000474</td>\n",
       "      <td>0.001681</td>\n",
       "      <td>0.000078</td>\n",
       "    </tr>\n",
       "    <tr>\n",
       "      <th>TIP</th>\n",
       "      <td>0.000160</td>\n",
       "      <td>0.000052</td>\n",
       "      <td>0.000171</td>\n",
       "      <td>0.000097</td>\n",
       "      <td>0.000076</td>\n",
       "      <td>0.000147</td>\n",
       "      <td>0.000202</td>\n",
       "      <td>0.000146</td>\n",
       "      <td>0.000067</td>\n",
       "      <td>0.000078</td>\n",
       "      <td>0.000172</td>\n",
       "    </tr>\n",
       "  </tbody>\n",
       "</table>\n",
       "</div>"
      ],
      "text/plain": [
       "          BWX       DBC       EEM       EFA       HYG       IEF       IYR  \\\n",
       "BWX  0.000488  0.000382  0.000750  0.000573  0.000278  0.000118  0.000453   \n",
       "DBC  0.000382  0.002734  0.001635  0.001407  0.000602 -0.000366  0.000788   \n",
       "EEM  0.000750  0.001635  0.003110  0.002200  0.001030 -0.000240  0.001778   \n",
       "EFA  0.000573  0.001407  0.002200  0.002145  0.000867 -0.000244  0.001640   \n",
       "HYG  0.000278  0.000602  0.001030  0.000867  0.000613 -0.000066  0.000964   \n",
       "IEF  0.000118 -0.000366 -0.000240 -0.000244 -0.000066  0.000286 -0.000053   \n",
       "IYR  0.000453  0.000788  0.001778  0.001640  0.000964 -0.000053  0.002784   \n",
       "PSP  0.000673  0.001599  0.002789  0.002630  0.001263 -0.000320  0.002439   \n",
       "QAI  0.000193  0.000391  0.000624  0.000540  0.000259 -0.000020  0.000452   \n",
       "SPY  0.000364  0.001068  0.001707  0.001654  0.000752 -0.000228  0.001581   \n",
       "TIP  0.000160  0.000052  0.000171  0.000097  0.000076  0.000147  0.000202   \n",
       "\n",
       "          PSP       QAI       SPY       TIP  \n",
       "BWX  0.000673  0.000193  0.000364  0.000160  \n",
       "DBC  0.001599  0.000391  0.001068  0.000052  \n",
       "EEM  0.002789  0.000624  0.001707  0.000171  \n",
       "EFA  0.002630  0.000540  0.001654  0.000097  \n",
       "HYG  0.001263  0.000259  0.000752  0.000076  \n",
       "IEF -0.000320 -0.000020 -0.000228  0.000147  \n",
       "IYR  0.002439  0.000452  0.001581  0.000202  \n",
       "PSP  0.003932  0.000719  0.002311  0.000146  \n",
       "QAI  0.000719  0.000195  0.000474  0.000067  \n",
       "SPY  0.002311  0.000474  0.001681  0.000078  \n",
       "TIP  0.000146  0.000067  0.000078  0.000172  "
      ]
     },
     "execution_count": 4,
     "metadata": {},
     "output_type": "execute_result"
    }
   ],
   "source": [
    "asset = pd.read_excel(R'C:\\Users\\20001009\\multi_asset_etf_data.xlsx', sheet_name = 'excess returns')\n",
    "del asset[\"Date\"]\n",
    "ac = asset.cov()\n",
    "ac"
   ]
  },
  {
   "cell_type": "code",
   "execution_count": 6,
   "id": "fe46e1e9",
   "metadata": {},
   "outputs": [
    {
     "data": {
      "text/plain": [
       "array([0.02208501, 0.05228876, 0.05576329, 0.04631175, 0.02474899,\n",
       "       0.01692434, 0.05276007, 0.06270265, 0.01396878, 0.04100405,\n",
       "       0.0131208 ])"
      ]
     },
     "execution_count": 6,
     "metadata": {},
     "output_type": "execute_result"
    }
   ],
   "source": [
    "means = np.array([0.0005325,0.003519, 0.006146, 0.007114, 0.006009, 0.0019589, 0.01266, 0.01158, 0.001712, 0.01256, 0.002667])\n",
    "sd = np.diag(ac, k=0)\n",
    "sd = np.sqrt(sd)\n",
    "sd"
   ]
  },
  {
   "cell_type": "code",
   "execution_count": 7,
   "id": "6a354793",
   "metadata": {},
   "outputs": [],
   "source": [
    "def sharpe(returns):\n",
    "    sr = returns.mean() / returns.std()\n",
    "    return sr\n"
   ]
  },
  {
   "cell_type": "code",
   "execution_count": 22,
   "id": "40888fc4",
   "metadata": {},
   "outputs": [
    {
     "data": {
      "text/plain": [
       "[0.024111372835460918,\n",
       " 0.06729936114917427,\n",
       " 0.11021588362449437,\n",
       " 0.15361112931517024,\n",
       " 0.24279774495212364,\n",
       " 0.11574450990526283,\n",
       " 0.23995420614464286,\n",
       " 0.1846811867514756,\n",
       " 0.12255901230941398,\n",
       " 0.30631121677428264,\n",
       " 0.20326509433021733]"
      ]
     },
     "execution_count": 22,
     "metadata": {},
     "output_type": "execute_result"
    }
   ],
   "source": [
    "sharpe1 = [0, 0, 0, 0, 0, 0, 0, 0, 0, 0, 0]\n",
    "for i in range(0,11):\n",
    "    sharpe1[i] = means[i]/sd[i]"
   ]
  },
  {
   "cell_type": "code",
   "execution_count": 17,
   "id": "1da21ba8",
   "metadata": {},
   "outputs": [
    {
     "data": {
      "text/plain": [
       "array([-0.97375555,  0.19186994,  0.1285199 , -0.00739493,  1.30894351,\n",
       "        2.15855266, -0.36884161, -0.3989305 , -4.33880845,  2.34956402,\n",
       "        0.950281  ])"
      ]
     },
     "execution_count": 17,
     "metadata": {},
     "output_type": "execute_result"
    }
   ],
   "source": [
    "onevec = np.array([1, 1, 1, 1, 1, 1, 1, 1, 1, 1, 1])\n",
    "onevec.transpose()\n",
    "inv_cov = np.linalg.inv(ac)\n",
    "wt = 1/np.dot(np.dot(onevec.transpose(), inv_cov), means) * np.dot(inv_cov, means)\n",
    "wt"
   ]
  },
  {
   "cell_type": "code",
   "execution_count": 19,
   "id": "894dcc6b",
   "metadata": {},
   "outputs": [
    {
     "data": {
      "text/plain": [
       "0.33978606127112354"
      ]
     },
     "execution_count": 19,
     "metadata": {},
     "output_type": "execute_result"
    }
   ],
   "source": [
    "wt_mean = np.dot(wt, means)\n",
    "wt_mean*12"
   ]
  },
  {
   "cell_type": "code",
   "execution_count": 13,
   "id": "ce13c68c",
   "metadata": {},
   "outputs": [],
   "source": [
    "def sigma(wts, data):\n",
    "    sum = 0\n",
    "    y = data.cov()\n",
    "    for j in range(0,11):\n",
    "        for i in range(0,11):\n",
    "            x = y.iloc[i,j]\n",
    "            sum = sum + wts[i]*wts[j]*x\n",
    "    return math.sqrt(sum)"
   ]
  },
  {
   "cell_type": "markdown",
   "id": "273814e8",
   "metadata": {},
   "source": []
  },
  {
   "cell_type": "code",
   "execution_count": 14,
   "id": "4e7368e6",
   "metadata": {},
   "outputs": [],
   "source": [
    "def sharpe2(mean, wts, data):\n",
    "    sr = mean / sigma(wts,data)\n",
    "    return sr"
   ]
  },
  {
   "cell_type": "code",
   "execution_count": 15,
   "id": "ae049aa8",
   "metadata": {},
   "outputs": [
    {
     "data": {
      "text/plain": [
       "0.5930533889463918"
      ]
     },
     "execution_count": 15,
     "metadata": {},
     "output_type": "execute_result"
    }
   ],
   "source": [
    "sharpe2(wt_mean, wt, asset)"
   ]
  },
  {
   "cell_type": "code",
   "execution_count": 91,
   "id": "4184b8d2",
   "metadata": {},
   "outputs": [],
   "source": [
    "delta = np.dot(np.dot(onevec.transpose(), inv_cov), means)\n",
    "delta = delta / np.dot(np.dot(means.transpose(), inv_cov),means)\n",
    "delta = 0.01 * delta\n",
    "ws = wt.copy()\n",
    "ws = delta * ws"
   ]
  },
  {
   "cell_type": "code",
   "execution_count": 131,
   "id": "23691ad2",
   "metadata": {},
   "outputs": [
    {
     "data": {
      "text/plain": [
       "0.5930533889463928"
      ]
     },
     "execution_count": 131,
     "metadata": {},
     "output_type": "execute_result"
    }
   ],
   "source": [
    "sharpe2(0.01, ws, asset)"
   ]
  },
  {
   "cell_type": "code",
   "execution_count": 96,
   "id": "e54a1695",
   "metadata": {},
   "outputs": [
    {
     "data": {
      "text/plain": [
       "array([1.50470091, 1.50470091, 1.50470091, 1.50470091, 1.50470091,\n",
       "       1.50470091, 1.50470091, 1.50470091, 1.50470091, 1.50470091,\n",
       "       1.50470091])"
      ]
     },
     "execution_count": 96,
     "metadata": {},
     "output_type": "execute_result"
    }
   ],
   "source": [
    "we = wt.copy()\n",
    "for i in range(0,11):\n",
    "    we[i] = 1/11 * 16.55171"
   ]
  },
  {
   "cell_type": "code",
   "execution_count": 138,
   "id": "37046185",
   "metadata": {},
   "outputs": [
    {
     "data": {
      "text/plain": [
       "array([0.11029944, 0.04658677, 0.04368402, 0.05259928, 0.09842681,\n",
       "       0.14393258, 0.04617061, 0.03884947, 0.17438634, 0.0594079 ,\n",
       "       0.18565676])"
      ]
     },
     "execution_count": 138,
     "metadata": {},
     "output_type": "execute_result"
    }
   ],
   "source": [
    "sigma(we, asset)\n",
    "sharpe2(0.01, we, asset)\n",
    "\n",
    "wr = wt.copy()\n",
    "for i in range(0,11):\n",
    "    wr[i] = (1/math.sqrt(ac.iloc[i,i]))/410.515\n"
   ]
  },
  {
   "cell_type": "code",
   "execution_count": 139,
   "id": "23ed17bc",
   "metadata": {},
   "outputs": [
    {
     "data": {
      "text/plain": [
       "0.004312998838268319"
      ]
     },
     "execution_count": 139,
     "metadata": {},
     "output_type": "execute_result"
    }
   ],
   "source": [
    "sharpe2(np.dot(wr, means)"
   ]
  },
  {
   "cell_type": "code",
   "execution_count": 114,
   "id": "274cb273",
   "metadata": {},
   "outputs": [],
   "source": [
    "asset2 = pd.read_excel('assets.xlsx', sheet_name = 'excess returns')\n",
    "asset2.set_index('Date',inplace = True)\n",
    "asset2 = asset2.loc[:'2020-12-31']\n",
    "\n",
    "inv_cov2 = np.linalg.inv(asset2.cov())\n",
    "asset2.describe()\n",
    "means2 = np.array([0.002189,-0.001108,0.008139,0.007913,0.006913,0.003054,0.012687,0.013323,0.002381,0.013095,0.002971])\n",
    "wt2 = 1/np.dot(np.dot(onevec.transpose(), inv_cov2), means2) * np.dot(inv_cov2, means2)\n",
    "\n",
    "delta = np.dot(np.dot(onevec.transpose(), inv_cov2), means2)\n",
    "delta = delta / np.dot(np.dot(means2.transpose(), inv_cov2),means2)\n",
    "delta = 0.01 * delta\n",
    "wt2 = delta * wt2"
   ]
  },
  {
   "cell_type": "code",
   "execution_count": 133,
   "id": "c150439a",
   "metadata": {},
   "outputs": [
    {
     "data": {
      "text/plain": [
       "0.5712302060641821"
      ]
     },
     "execution_count": 133,
     "metadata": {},
     "output_type": "execute_result"
    }
   ],
   "source": [
    "asset3 = pd.read_excel('assets.xlsx', sheet_name = 'excess returns')\n",
    "asset3.set_index('Date',inplace = True)\n",
    "asset3 = asset3.loc[:'2021-12-31']\n",
    "means3 = np.array([0.001446,0.001372,0.007297,0.008039,0.006622,0.002607,0.013938,0.013779,0.002193,0.013780,0.003111])\n",
    "np.dot(wt2, means)\n",
    "sharpe2(0.008814239021071698, wt2, asset3)"
   ]
  },
  {
   "cell_type": "code",
   "execution_count": 134,
   "id": "25061c4a",
   "metadata": {},
   "outputs": [
    {
     "data": {
      "text/plain": [
       "0.5109589029130842"
      ]
     },
     "execution_count": 134,
     "metadata": {},
     "output_type": "execute_result"
    }
   ],
   "source": [
    "wt2_mean = np.dot(wt2, means)\n",
    "sharpe2(wt2_mean, wt2, asset)"
   ]
  }
 ],
 "metadata": {
  "kernelspec": {
   "display_name": "Python 3",
   "language": "python",
   "name": "python3"
  },
  "language_info": {
   "codemirror_mode": {
    "name": "ipython",
    "version": 3
   },
   "file_extension": ".py",
   "mimetype": "text/x-python",
   "name": "python",
   "nbconvert_exporter": "python",
   "pygments_lexer": "ipython3",
   "version": "3.8.8"
  }
 },
 "nbformat": 4,
 "nbformat_minor": 5
}
