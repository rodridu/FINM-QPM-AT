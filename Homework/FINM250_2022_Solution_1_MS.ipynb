{
 "cells": [
  {
   "cell_type": "markdown",
   "metadata": {},
   "source": [
    "# FINM 25000 - Quantitative Portfolio Management and Algorithmic Trading\n",
    "## Homework 1 Solution | Summer 2022"
   ]
  },
  {
   "cell_type": "code",
   "execution_count": 1,
   "metadata": {},
   "outputs": [],
   "source": [
    "# import the packages we need\n",
    "import numpy as np\n",
    "import pandas as pd\n",
    "pd.options.display.float_format = '{:.2f}'.format\n",
    "import matplotlib.pyplot as plt\n",
    "import seaborn as sns"
   ]
  },
  {
   "cell_type": "markdown",
   "metadata": {},
   "source": [
    "## 2 Mean-Variance Optimization\n",
    "### 1. Summary Statistics\n",
    "#### (a) Calculate and display the mean and volatility of each asset's excess return. (Recall we use volatility to refer to standard deviation.)\n"
   ]
  },
  {
   "cell_type": "code",
   "execution_count": 2,
   "metadata": {},
   "outputs": [
    {
     "data": {
      "text/html": [
       "<style  type=\"text/css\" >\n",
       "</style><table id=\"T_6ddf7_\" ><thead>    <tr>        <th class=\"blank level0\" ></th>        <th class=\"col_heading level0 col0\" >Annual_Mean</th>        <th class=\"col_heading level0 col1\" >Annual_Std</th>    </tr></thead><tbody>\n",
       "                <tr>\n",
       "                        <th id=\"T_6ddf7_level0_row0\" class=\"row_heading level0 row0\" >BWX</th>\n",
       "                        <td id=\"T_6ddf7_row0_col0\" class=\"data row0 col0\" >0.64%</td>\n",
       "                        <td id=\"T_6ddf7_row0_col1\" class=\"data row0 col1\" >7.65%</td>\n",
       "            </tr>\n",
       "            <tr>\n",
       "                        <th id=\"T_6ddf7_level0_row1\" class=\"row_heading level0 row1\" >DBC</th>\n",
       "                        <td id=\"T_6ddf7_row1_col0\" class=\"data row1 col0\" >4.22%</td>\n",
       "                        <td id=\"T_6ddf7_row1_col1\" class=\"data row1 col1\" >18.11%</td>\n",
       "            </tr>\n",
       "            <tr>\n",
       "                        <th id=\"T_6ddf7_level0_row2\" class=\"row_heading level0 row2\" >EEM</th>\n",
       "                        <td id=\"T_6ddf7_row2_col0\" class=\"data row2 col0\" >7.37%</td>\n",
       "                        <td id=\"T_6ddf7_row2_col1\" class=\"data row2 col1\" >19.32%</td>\n",
       "            </tr>\n",
       "            <tr>\n",
       "                        <th id=\"T_6ddf7_level0_row3\" class=\"row_heading level0 row3\" >EFA</th>\n",
       "                        <td id=\"T_6ddf7_row3_col0\" class=\"data row3 col0\" >8.54%</td>\n",
       "                        <td id=\"T_6ddf7_row3_col1\" class=\"data row3 col1\" >16.04%</td>\n",
       "            </tr>\n",
       "            <tr>\n",
       "                        <th id=\"T_6ddf7_level0_row4\" class=\"row_heading level0 row4\" >HYG</th>\n",
       "                        <td id=\"T_6ddf7_row4_col0\" class=\"data row4 col0\" >7.21%</td>\n",
       "                        <td id=\"T_6ddf7_row4_col1\" class=\"data row4 col1\" >8.57%</td>\n",
       "            </tr>\n",
       "            <tr>\n",
       "                        <th id=\"T_6ddf7_level0_row5\" class=\"row_heading level0 row5\" >IEF</th>\n",
       "                        <td id=\"T_6ddf7_row5_col0\" class=\"data row5 col0\" >2.35%</td>\n",
       "                        <td id=\"T_6ddf7_row5_col1\" class=\"data row5 col1\" >5.86%</td>\n",
       "            </tr>\n",
       "            <tr>\n",
       "                        <th id=\"T_6ddf7_level0_row6\" class=\"row_heading level0 row6\" >IYR</th>\n",
       "                        <td id=\"T_6ddf7_row6_col0\" class=\"data row6 col0\" >15.19%</td>\n",
       "                        <td id=\"T_6ddf7_row6_col1\" class=\"data row6 col1\" >18.28%</td>\n",
       "            </tr>\n",
       "            <tr>\n",
       "                        <th id=\"T_6ddf7_level0_row7\" class=\"row_heading level0 row7\" >PSP</th>\n",
       "                        <td id=\"T_6ddf7_row7_col0\" class=\"data row7 col0\" >13.89%</td>\n",
       "                        <td id=\"T_6ddf7_row7_col1\" class=\"data row7 col1\" >21.72%</td>\n",
       "            </tr>\n",
       "            <tr>\n",
       "                        <th id=\"T_6ddf7_level0_row8\" class=\"row_heading level0 row8\" >QAI</th>\n",
       "                        <td id=\"T_6ddf7_row8_col0\" class=\"data row8 col0\" >2.05%</td>\n",
       "                        <td id=\"T_6ddf7_row8_col1\" class=\"data row8 col1\" >4.84%</td>\n",
       "            </tr>\n",
       "            <tr>\n",
       "                        <th id=\"T_6ddf7_level0_row9\" class=\"row_heading level0 row9\" >SPY</th>\n",
       "                        <td id=\"T_6ddf7_row9_col0\" class=\"data row9 col0\" >15.07%</td>\n",
       "                        <td id=\"T_6ddf7_row9_col1\" class=\"data row9 col1\" >14.20%</td>\n",
       "            </tr>\n",
       "            <tr>\n",
       "                        <th id=\"T_6ddf7_level0_row10\" class=\"row_heading level0 row10\" >TIP</th>\n",
       "                        <td id=\"T_6ddf7_row10_col0\" class=\"data row10 col0\" >3.20%</td>\n",
       "                        <td id=\"T_6ddf7_row10_col1\" class=\"data row10 col1\" >4.55%</td>\n",
       "            </tr>\n",
       "    </tbody></table>"
      ],
      "text/plain": [
       "<pandas.io.formats.style.Styler at 0x7fa1fc00f640>"
      ]
     },
     "execution_count": 2,
     "metadata": {},
     "output_type": "execute_result"
    }
   ],
   "source": [
    "# Return Data for Multi Assets ETF\n",
    "data = pd.read_excel('multi_asset_etf_data.xlsx', sheet_name = 'excess returns').set_index('Date')\n",
    "\n",
    "# Annualized Mean Return and Volatality\n",
    "mean_vol_table = data.describe().loc[['mean','std']].transpose()\n",
    "mean_vol_table['Annual_Mean'], mean_vol_table['Annual_Std']  = mean_vol_table['mean'] * 12, mean_vol_table['std'] * (12**0.5)\n",
    "mean_vol_table[['Annual_Mean','Annual_Std']].style.format('{:,.2%}')"
   ]
  },
  {
   "cell_type": "code",
   "execution_count": 3,
   "metadata": {},
   "outputs": [
    {
     "data": {
      "text/html": [
       "<div>\n",
       "<style scoped>\n",
       "    .dataframe tbody tr th:only-of-type {\n",
       "        vertical-align: middle;\n",
       "    }\n",
       "\n",
       "    .dataframe tbody tr th {\n",
       "        vertical-align: top;\n",
       "    }\n",
       "\n",
       "    .dataframe thead th {\n",
       "        text-align: right;\n",
       "    }\n",
       "</style>\n",
       "<table border=\"1\" class=\"dataframe\">\n",
       "  <thead>\n",
       "    <tr style=\"text-align: right;\">\n",
       "      <th></th>\n",
       "      <th>Annual_Mean</th>\n",
       "      <th>Annual_Std</th>\n",
       "      <th>Sharpe Ratio</th>\n",
       "    </tr>\n",
       "  </thead>\n",
       "  <tbody>\n",
       "    <tr>\n",
       "      <th>BWX</th>\n",
       "      <td>0.01</td>\n",
       "      <td>0.08</td>\n",
       "      <td>0.08</td>\n",
       "    </tr>\n",
       "    <tr>\n",
       "      <th>DBC</th>\n",
       "      <td>0.04</td>\n",
       "      <td>0.18</td>\n",
       "      <td>0.23</td>\n",
       "    </tr>\n",
       "    <tr>\n",
       "      <th>EEM</th>\n",
       "      <td>0.07</td>\n",
       "      <td>0.19</td>\n",
       "      <td>0.38</td>\n",
       "    </tr>\n",
       "    <tr>\n",
       "      <th>EFA</th>\n",
       "      <td>0.09</td>\n",
       "      <td>0.16</td>\n",
       "      <td>0.53</td>\n",
       "    </tr>\n",
       "    <tr>\n",
       "      <th>HYG</th>\n",
       "      <td>0.07</td>\n",
       "      <td>0.09</td>\n",
       "      <td>0.84</td>\n",
       "    </tr>\n",
       "    <tr>\n",
       "      <th>IEF</th>\n",
       "      <td>0.02</td>\n",
       "      <td>0.06</td>\n",
       "      <td>0.40</td>\n",
       "    </tr>\n",
       "    <tr>\n",
       "      <th>IYR</th>\n",
       "      <td>0.15</td>\n",
       "      <td>0.18</td>\n",
       "      <td>0.83</td>\n",
       "    </tr>\n",
       "    <tr>\n",
       "      <th>PSP</th>\n",
       "      <td>0.14</td>\n",
       "      <td>0.22</td>\n",
       "      <td>0.64</td>\n",
       "    </tr>\n",
       "    <tr>\n",
       "      <th>QAI</th>\n",
       "      <td>0.02</td>\n",
       "      <td>0.05</td>\n",
       "      <td>0.42</td>\n",
       "    </tr>\n",
       "    <tr>\n",
       "      <th>SPY</th>\n",
       "      <td>0.15</td>\n",
       "      <td>0.14</td>\n",
       "      <td>1.06</td>\n",
       "    </tr>\n",
       "    <tr>\n",
       "      <th>TIP</th>\n",
       "      <td>0.03</td>\n",
       "      <td>0.05</td>\n",
       "      <td>0.70</td>\n",
       "    </tr>\n",
       "  </tbody>\n",
       "</table>\n",
       "</div>"
      ],
      "text/plain": [
       "     Annual_Mean  Annual_Std  Sharpe Ratio\n",
       "BWX         0.01        0.08          0.08\n",
       "DBC         0.04        0.18          0.23\n",
       "EEM         0.07        0.19          0.38\n",
       "EFA         0.09        0.16          0.53\n",
       "HYG         0.07        0.09          0.84\n",
       "IEF         0.02        0.06          0.40\n",
       "IYR         0.15        0.18          0.83\n",
       "PSP         0.14        0.22          0.64\n",
       "QAI         0.02        0.05          0.42\n",
       "SPY         0.15        0.14          1.06\n",
       "TIP         0.03        0.05          0.70"
      ]
     },
     "metadata": {},
     "output_type": "display_data"
    }
   ],
   "source": [
    "def mean_volatality_stat(data, date_index = True, annualize = 12):\n",
    "    if(date_index == True):\n",
    "        mean_vol_table = data.describe().loc[['mean','std']].transpose()\n",
    "    if annualize:\n",
    "        mean_vol_table['Annual_Mean'], mean_vol_table['Annual_Std']  = mean_vol_table['mean'] * annualize, mean_vol_table['std'] * np.sqrt(annualize)\n",
    "        mean_vol_table['Sharpe Ratio'] = mean_vol_table['Annual_Mean'] / mean_vol_table['Annual_Std']\n",
    "    return(mean_vol_table[['Annual_Mean','Annual_Std', 'Sharpe Ratio']])\n",
    "\n",
    "display(mean_volatality_stat(data))"
   ]
  },
  {
   "cell_type": "markdown",
   "metadata": {},
   "source": [
    "#### (b) Which assets have the best and worst Sharpe ratios?\n"
   ]
  },
  {
   "cell_type": "code",
   "execution_count": 4,
   "metadata": {},
   "outputs": [
    {
     "name": "stdout",
     "output_type": "stream",
     "text": [
      "Best Sharpe Ratio: 1.06 for SPY\n",
      "Worst Sharpe Ratio: 0.08 for BWX\n"
     ]
    },
    {
     "data": {
      "text/plain": [
       "SPY   1.06\n",
       "HYG   0.84\n",
       "IYR   0.83\n",
       "TIP   0.70\n",
       "PSP   0.64\n",
       "EFA   0.53\n",
       "QAI   0.42\n",
       "IEF   0.40\n",
       "EEM   0.38\n",
       "DBC   0.23\n",
       "BWX   0.08\n",
       "Name: Sharpe_Ratio, dtype: float64"
      ]
     },
     "execution_count": 4,
     "metadata": {},
     "output_type": "execute_result"
    }
   ],
   "source": [
    "# Calculating Sharpe Ratio\n",
    "mean_vol_table['Sharpe_Ratio'] = mean_vol_table['Annual_Mean']/mean_vol_table['Annual_Std']\n",
    "mean_vol_table_print = mean_vol_table.sort_values('Sharpe_Ratio', ascending = False)\n",
    "print('Best Sharpe Ratio: '+ str(round(mean_vol_table_print.iloc[[0]].Sharpe_Ratio[0], 2)) + ' for ' + mean_vol_table_print.iloc[[0]].index[0])\n",
    "print('Worst Sharpe Ratio: '+ str(round(mean_vol_table_print.iloc[[-1]].Sharpe_Ratio[0], 2)) + ' for ' + mean_vol_table_print.iloc[[-1]].index[0])\n",
    "mean_vol_table_print['Sharpe_Ratio']"
   ]
  },
  {
   "cell_type": "markdown",
   "metadata": {},
   "source": [
    "### 2. Descriptive Analysis\n",
    "#### (a) Calculate the correlation matrix of the returns. Which pair has the highest correlation? And the lowest?"
   ]
  },
  {
   "cell_type": "code",
   "execution_count": 5,
   "metadata": {},
   "outputs": [
    {
     "name": "stdout",
     "output_type": "stream",
     "text": [
      "**** Correlation Matrix ****\n"
     ]
    },
    {
     "data": {
      "text/html": [
       "<div>\n",
       "<style scoped>\n",
       "    .dataframe tbody tr th:only-of-type {\n",
       "        vertical-align: middle;\n",
       "    }\n",
       "\n",
       "    .dataframe tbody tr th {\n",
       "        vertical-align: top;\n",
       "    }\n",
       "\n",
       "    .dataframe thead th {\n",
       "        text-align: right;\n",
       "    }\n",
       "</style>\n",
       "<table border=\"1\" class=\"dataframe\">\n",
       "  <thead>\n",
       "    <tr style=\"text-align: right;\">\n",
       "      <th></th>\n",
       "      <th>BWX</th>\n",
       "      <th>DBC</th>\n",
       "      <th>EEM</th>\n",
       "      <th>EFA</th>\n",
       "      <th>HYG</th>\n",
       "      <th>IEF</th>\n",
       "      <th>IYR</th>\n",
       "      <th>PSP</th>\n",
       "      <th>QAI</th>\n",
       "      <th>SPY</th>\n",
       "      <th>TIP</th>\n",
       "    </tr>\n",
       "  </thead>\n",
       "  <tbody>\n",
       "    <tr>\n",
       "      <th>BWX</th>\n",
       "      <td>1.00</td>\n",
       "      <td>0.33</td>\n",
       "      <td>0.61</td>\n",
       "      <td>0.56</td>\n",
       "      <td>0.51</td>\n",
       "      <td>0.32</td>\n",
       "      <td>0.39</td>\n",
       "      <td>0.49</td>\n",
       "      <td>0.62</td>\n",
       "      <td>0.40</td>\n",
       "      <td>0.55</td>\n",
       "    </tr>\n",
       "    <tr>\n",
       "      <th>DBC</th>\n",
       "      <td>0.33</td>\n",
       "      <td>1.00</td>\n",
       "      <td>0.56</td>\n",
       "      <td>0.58</td>\n",
       "      <td>0.47</td>\n",
       "      <td>-0.41</td>\n",
       "      <td>0.29</td>\n",
       "      <td>0.49</td>\n",
       "      <td>0.54</td>\n",
       "      <td>0.50</td>\n",
       "      <td>0.08</td>\n",
       "    </tr>\n",
       "    <tr>\n",
       "      <th>EEM</th>\n",
       "      <td>0.61</td>\n",
       "      <td>0.56</td>\n",
       "      <td>1.00</td>\n",
       "      <td>0.85</td>\n",
       "      <td>0.75</td>\n",
       "      <td>-0.25</td>\n",
       "      <td>0.60</td>\n",
       "      <td>0.80</td>\n",
       "      <td>0.80</td>\n",
       "      <td>0.75</td>\n",
       "      <td>0.23</td>\n",
       "    </tr>\n",
       "    <tr>\n",
       "      <th>EFA</th>\n",
       "      <td>0.56</td>\n",
       "      <td>0.58</td>\n",
       "      <td>0.85</td>\n",
       "      <td>1.00</td>\n",
       "      <td>0.76</td>\n",
       "      <td>-0.31</td>\n",
       "      <td>0.67</td>\n",
       "      <td>0.91</td>\n",
       "      <td>0.83</td>\n",
       "      <td>0.87</td>\n",
       "      <td>0.16</td>\n",
       "    </tr>\n",
       "    <tr>\n",
       "      <th>HYG</th>\n",
       "      <td>0.51</td>\n",
       "      <td>0.47</td>\n",
       "      <td>0.75</td>\n",
       "      <td>0.76</td>\n",
       "      <td>1.00</td>\n",
       "      <td>-0.16</td>\n",
       "      <td>0.74</td>\n",
       "      <td>0.81</td>\n",
       "      <td>0.75</td>\n",
       "      <td>0.74</td>\n",
       "      <td>0.24</td>\n",
       "    </tr>\n",
       "    <tr>\n",
       "      <th>IEF</th>\n",
       "      <td>0.32</td>\n",
       "      <td>-0.41</td>\n",
       "      <td>-0.25</td>\n",
       "      <td>-0.31</td>\n",
       "      <td>-0.16</td>\n",
       "      <td>1.00</td>\n",
       "      <td>-0.06</td>\n",
       "      <td>-0.30</td>\n",
       "      <td>-0.09</td>\n",
       "      <td>-0.33</td>\n",
       "      <td>0.66</td>\n",
       "    </tr>\n",
       "    <tr>\n",
       "      <th>IYR</th>\n",
       "      <td>0.39</td>\n",
       "      <td>0.29</td>\n",
       "      <td>0.60</td>\n",
       "      <td>0.67</td>\n",
       "      <td>0.74</td>\n",
       "      <td>-0.06</td>\n",
       "      <td>1.00</td>\n",
       "      <td>0.74</td>\n",
       "      <td>0.61</td>\n",
       "      <td>0.73</td>\n",
       "      <td>0.29</td>\n",
       "    </tr>\n",
       "    <tr>\n",
       "      <th>PSP</th>\n",
       "      <td>0.49</td>\n",
       "      <td>0.49</td>\n",
       "      <td>0.80</td>\n",
       "      <td>0.91</td>\n",
       "      <td>0.81</td>\n",
       "      <td>-0.30</td>\n",
       "      <td>0.74</td>\n",
       "      <td>1.00</td>\n",
       "      <td>0.82</td>\n",
       "      <td>0.90</td>\n",
       "      <td>0.18</td>\n",
       "    </tr>\n",
       "    <tr>\n",
       "      <th>QAI</th>\n",
       "      <td>0.62</td>\n",
       "      <td>0.54</td>\n",
       "      <td>0.80</td>\n",
       "      <td>0.83</td>\n",
       "      <td>0.75</td>\n",
       "      <td>-0.09</td>\n",
       "      <td>0.61</td>\n",
       "      <td>0.82</td>\n",
       "      <td>1.00</td>\n",
       "      <td>0.83</td>\n",
       "      <td>0.37</td>\n",
       "    </tr>\n",
       "    <tr>\n",
       "      <th>SPY</th>\n",
       "      <td>0.40</td>\n",
       "      <td>0.50</td>\n",
       "      <td>0.75</td>\n",
       "      <td>0.87</td>\n",
       "      <td>0.74</td>\n",
       "      <td>-0.33</td>\n",
       "      <td>0.73</td>\n",
       "      <td>0.90</td>\n",
       "      <td>0.83</td>\n",
       "      <td>1.00</td>\n",
       "      <td>0.14</td>\n",
       "    </tr>\n",
       "    <tr>\n",
       "      <th>TIP</th>\n",
       "      <td>0.55</td>\n",
       "      <td>0.08</td>\n",
       "      <td>0.23</td>\n",
       "      <td>0.16</td>\n",
       "      <td>0.24</td>\n",
       "      <td>0.66</td>\n",
       "      <td>0.29</td>\n",
       "      <td>0.18</td>\n",
       "      <td>0.37</td>\n",
       "      <td>0.14</td>\n",
       "      <td>1.00</td>\n",
       "    </tr>\n",
       "  </tbody>\n",
       "</table>\n",
       "</div>"
      ],
      "text/plain": [
       "     BWX   DBC   EEM   EFA   HYG   IEF   IYR   PSP   QAI   SPY  TIP\n",
       "BWX 1.00  0.33  0.61  0.56  0.51  0.32  0.39  0.49  0.62  0.40 0.55\n",
       "DBC 0.33  1.00  0.56  0.58  0.47 -0.41  0.29  0.49  0.54  0.50 0.08\n",
       "EEM 0.61  0.56  1.00  0.85  0.75 -0.25  0.60  0.80  0.80  0.75 0.23\n",
       "EFA 0.56  0.58  0.85  1.00  0.76 -0.31  0.67  0.91  0.83  0.87 0.16\n",
       "HYG 0.51  0.47  0.75  0.76  1.00 -0.16  0.74  0.81  0.75  0.74 0.24\n",
       "IEF 0.32 -0.41 -0.25 -0.31 -0.16  1.00 -0.06 -0.30 -0.09 -0.33 0.66\n",
       "IYR 0.39  0.29  0.60  0.67  0.74 -0.06  1.00  0.74  0.61  0.73 0.29\n",
       "PSP 0.49  0.49  0.80  0.91  0.81 -0.30  0.74  1.00  0.82  0.90 0.18\n",
       "QAI 0.62  0.54  0.80  0.83  0.75 -0.09  0.61  0.82  1.00  0.83 0.37\n",
       "SPY 0.40  0.50  0.75  0.87  0.74 -0.33  0.73  0.90  0.83  1.00 0.14\n",
       "TIP 0.55  0.08  0.23  0.16  0.24  0.66  0.29  0.18  0.37  0.14 1.00"
      ]
     },
     "metadata": {},
     "output_type": "display_data"
    },
    {
     "data": {
      "image/png": "[encoded data removed]",
      "text/plain": [
       "<Figure size 720x576 with 2 Axes>"
      ]
     },
     "metadata": {
      "needs_background": "light"
     },
     "output_type": "display_data"
    },
    {
     "name": "stdout",
     "output_type": "stream",
     "text": [
      "Pair of securities with highest correlation: ('EFA', 'PSP')\n",
      "Pair of securities with lowest correlation: ('IEF', 'IYR')\n"
     ]
    }
   ],
   "source": [
    "# Correlation Matrix\n",
    "corrmat = data.corr()\n",
    "print('**** Correlation Matrix ****')\n",
    "display(corrmat)\n",
    "\n",
    "#Heatmap\n",
    "plt.figure(figsize=(10,8))\n",
    "sns.heatmap(corrmat)\n",
    "plt.show()\n",
    "\n",
    "#Removing Diagonal Elements which are always 1 \n",
    "corrmat[corrmat==1] = None\n",
    "\n",
    "#Melting the dataframe and sorting on values \n",
    "corr_rank = abs(corrmat.unstack()).sort_values(ascending = False).dropna()\n",
    "\n",
    "#Highest and Lowest Correls \n",
    "print('Pair of securities with highest correlation: ' + str(corr_rank.index[1]))\n",
    "print('Pair of securities with lowest correlation: ' + str(corr_rank.index[-1]))"
   ]
  },
  {
   "cell_type": "markdown",
   "metadata": {},
   "source": [
    "#### (b) How well have TIPS done in our sample? Have they outperformed domestic bonds? Foreign bonds?"
   ]
  },
  {
   "cell_type": "code",
   "execution_count": 6,
   "metadata": {},
   "outputs": [
    {
     "data": {
      "text/html": [
       "<div>\n",
       "<style scoped>\n",
       "    .dataframe tbody tr th:only-of-type {\n",
       "        vertical-align: middle;\n",
       "    }\n",
       "\n",
       "    .dataframe tbody tr th {\n",
       "        vertical-align: top;\n",
       "    }\n",
       "\n",
       "    .dataframe thead th {\n",
       "        text-align: right;\n",
       "    }\n",
       "</style>\n",
       "<table border=\"1\" class=\"dataframe\">\n",
       "  <thead>\n",
       "    <tr style=\"text-align: right;\">\n",
       "      <th></th>\n",
       "      <th>Annual_Mean</th>\n",
       "      <th>Sharpe_Ratio</th>\n",
       "    </tr>\n",
       "  </thead>\n",
       "  <tbody>\n",
       "    <tr>\n",
       "      <th>TIP</th>\n",
       "      <td>0.03</td>\n",
       "      <td>0.70</td>\n",
       "    </tr>\n",
       "    <tr>\n",
       "      <th>BWX</th>\n",
       "      <td>0.01</td>\n",
       "      <td>0.08</td>\n",
       "    </tr>\n",
       "    <tr>\n",
       "      <th>IEF</th>\n",
       "      <td>0.02</td>\n",
       "      <td>0.40</td>\n",
       "    </tr>\n",
       "  </tbody>\n",
       "</table>\n",
       "</div>"
      ],
      "text/plain": [
       "     Annual_Mean  Sharpe_Ratio\n",
       "TIP         0.03          0.70\n",
       "BWX         0.01          0.08\n",
       "IEF         0.02          0.40"
      ]
     },
     "execution_count": 6,
     "metadata": {},
     "output_type": "execute_result"
    }
   ],
   "source": [
    "# then find the SR of the 3 assets using their symbols\n",
    "mean_vol_table_print[['Annual_Mean','Sharpe_Ratio']].loc[['TIP','BWX','IEF']]"
   ]
  },
  {
   "cell_type": "markdown",
   "metadata": {},
   "source": [
    "Looking at the numbers above, it is clear that TIPS has:\n",
    "1. The fourth highest Sharpe Ratio out of the 11 assets available in the sample. \n",
    "2. Better Sharpe Ratio than Domestic and International Government Bonds\n",
    "3. Poor performance as compared to Equity, HY Corporate Bonds and Real Estate"
   ]
  },
  {
   "cell_type": "markdown",
   "metadata": {},
   "source": [
    "#### (c) Based on the data, do TIPS seem to expand the investment opportunity set, implying that Harvard should consider them as a separate asset?"
   ]
  },
  {
   "cell_type": "markdown",
   "metadata": {},
   "source": [
    "Scrolling up and looking at the correlation matrix heatmap again, we can see that the corrleation between TIPS and the rest of the assets in the portfolio are low (colors mostly dark). Also, given that TIPS has a higher Sharpe ratio than the average SR of the portfolio, Harvard **should** consider TIPS as a separate asset."
   ]
  },
  {
   "cell_type": "markdown",
   "metadata": {},
   "source": [
    "### 3. The MV frontier.\n",
    "#### (a) Compute and display the weights of the tangency portfolios: $w^{tan}$."
   ]
  },
  {
   "cell_type": "code",
   "execution_count": 7,
   "metadata": {},
   "outputs": [
    {
     "data": {
      "text/html": [
       "<style  type=\"text/css\" >\n",
       "</style><table id=\"T_46ab0_\" ><thead>    <tr>        <th class=\"blank level0\" ></th>        <th class=\"col_heading level0 col0\" >Weights for the Tangency Portfolio</th>    </tr></thead><tbody>\n",
       "                <tr>\n",
       "                        <th id=\"T_46ab0_level0_row0\" class=\"row_heading level0 row0\" >SPY</th>\n",
       "                        <td id=\"T_46ab0_row0_col0\" class=\"data row0 col0\" >234.85%</td>\n",
       "            </tr>\n",
       "            <tr>\n",
       "                        <th id=\"T_46ab0_level0_row1\" class=\"row_heading level0 row1\" >IEF</th>\n",
       "                        <td id=\"T_46ab0_row1_col0\" class=\"data row1 col0\" >215.71%</td>\n",
       "            </tr>\n",
       "            <tr>\n",
       "                        <th id=\"T_46ab0_level0_row2\" class=\"row_heading level0 row2\" >HYG</th>\n",
       "                        <td id=\"T_46ab0_row2_col0\" class=\"data row2 col0\" >130.83%</td>\n",
       "            </tr>\n",
       "            <tr>\n",
       "                        <th id=\"T_46ab0_level0_row3\" class=\"row_heading level0 row3\" >TIP</th>\n",
       "                        <td id=\"T_46ab0_row3_col0\" class=\"data row3 col0\" >94.95%</td>\n",
       "            </tr>\n",
       "            <tr>\n",
       "                        <th id=\"T_46ab0_level0_row4\" class=\"row_heading level0 row4\" >DBC</th>\n",
       "                        <td id=\"T_46ab0_row4_col0\" class=\"data row4 col0\" >19.17%</td>\n",
       "            </tr>\n",
       "            <tr>\n",
       "                        <th id=\"T_46ab0_level0_row5\" class=\"row_heading level0 row5\" >EEM</th>\n",
       "                        <td id=\"T_46ab0_row5_col0\" class=\"data row5 col0\" >12.84%</td>\n",
       "            </tr>\n",
       "            <tr>\n",
       "                        <th id=\"T_46ab0_level0_row6\" class=\"row_heading level0 row6\" >EFA</th>\n",
       "                        <td id=\"T_46ab0_row6_col0\" class=\"data row6 col0\" >-0.72%</td>\n",
       "            </tr>\n",
       "            <tr>\n",
       "                        <th id=\"T_46ab0_level0_row7\" class=\"row_heading level0 row7\" >IYR</th>\n",
       "                        <td id=\"T_46ab0_row7_col0\" class=\"data row7 col0\" >-36.88%</td>\n",
       "            </tr>\n",
       "            <tr>\n",
       "                        <th id=\"T_46ab0_level0_row8\" class=\"row_heading level0 row8\" >PSP</th>\n",
       "                        <td id=\"T_46ab0_row8_col0\" class=\"data row8 col0\" >-39.91%</td>\n",
       "            </tr>\n",
       "            <tr>\n",
       "                        <th id=\"T_46ab0_level0_row9\" class=\"row_heading level0 row9\" >BWX</th>\n",
       "                        <td id=\"T_46ab0_row9_col0\" class=\"data row9 col0\" >-97.31%</td>\n",
       "            </tr>\n",
       "            <tr>\n",
       "                        <th id=\"T_46ab0_level0_row10\" class=\"row_heading level0 row10\" >QAI</th>\n",
       "                        <td id=\"T_46ab0_row10_col0\" class=\"data row10 col0\" >-433.53%</td>\n",
       "            </tr>\n",
       "    </tbody></table>"
      ],
      "text/plain": [
       "<pandas.io.formats.style.Styler at 0x7fa1fc856c70>"
      ]
     },
     "execution_count": 7,
     "metadata": {},
     "output_type": "execute_result"
    }
   ],
   "source": [
    "### Function for Tangency Portfolio\n",
    "\n",
    "def tangency_portfolio(data, return_vector, inverse_covmat):\n",
    "    one_vector = np.ones((11,1), dtype = int)\n",
    "    return np.dot(inverse_covmat, return_vector) / float(np.dot(np.dot(one_vector.transpose(), inverse_covmat), return_vector))\n",
    "\n",
    "#return_vector = vector of annualized mean returns \n",
    "return_vector = np.array(mean_vol_table['Annual_Mean']).reshape([11,1])\n",
    "\n",
    "#inverse_covmat = inverse of covariance matrix\n",
    "covmat = data.cov()*12\n",
    "inverse_covmat = np.linalg.inv(np.array(covmat))\n",
    "\n",
    "#Tangency Portfolio Weights Vector\n",
    "tangency_portfolio_weights = tangency_portfolio(data, return_vector, inverse_covmat)\n",
    "pd.DataFrame(tangency_portfolio_weights, index = mean_vol_table.index, columns = ['Weights for the Tangency Portfolio']).sort_values('Weights for the Tangency Portfolio', ascending = False).style.format('{:,.2%}')"
   ]
  },
  {
   "cell_type": "markdown",
   "metadata": {},
   "source": [
    "#### (b) Compute the mean, volatility, and Sharpe Ratio for the tangency portfolio corresponding to $w^{tan}$."
   ]
  },
  {
   "cell_type": "code",
   "execution_count": 8,
   "metadata": {},
   "outputs": [
    {
     "name": "stdout",
     "output_type": "stream",
     "text": [
      "Mean Return of Tangency Portfolio = 33.96%\n",
      "Volatality of Tangency Portfolio = 16.53%\n",
      "Sharpe Ratio of Tangency Portfolio = 2.05\n"
     ]
    }
   ],
   "source": [
    "# Mean, Volatality and Sharpe Ratio for the tangency portfolio:\n",
    "mean = np.dot(tangency_portfolio_weights.transpose(), return_vector)\n",
    "volatality = np.dot(np.dot(tangency_portfolio_weights.transpose(), covmat), tangency_portfolio_weights) ** 0.5\n",
    "\n",
    "print(f'Mean Return of Tangency Portfolio = {round(float(mean)*100, 2)}%')\n",
    "print(f'Volatality of Tangency Portfolio = {round(float(volatality)*100, 2)}%')\n",
    "print(f'Sharpe Ratio of Tangency Portfolio = {round(float(mean/volatality), 2)}')"
   ]
  },
  {
   "cell_type": "markdown",
   "metadata": {},
   "source": [
    "### 4. The allocation.\n",
    "#### (a) Compute and display the weights of MV portfolios with target returns of $\\tilde{\\mu}^p = .01$."
   ]
  },
  {
   "cell_type": "code",
   "execution_count": 9,
   "metadata": {},
   "outputs": [
    {
     "data": {
      "text/html": [
       "<style  type=\"text/css\" >\n",
       "</style><table id=\"T_dedb6_\" ><thead>    <tr>        <th class=\"blank level0\" ></th>        <th class=\"col_heading level0 col0\" >Weights for the Target Portfolio</th>    </tr></thead><tbody>\n",
       "                <tr>\n",
       "                        <th id=\"T_dedb6_level0_row0\" class=\"row_heading level0 row0\" >SPY</th>\n",
       "                        <td id=\"T_dedb6_row0_col0\" class=\"data row0 col0\" >82.99%</td>\n",
       "            </tr>\n",
       "            <tr>\n",
       "                        <th id=\"T_dedb6_level0_row1\" class=\"row_heading level0 row1\" >IEF</th>\n",
       "                        <td id=\"T_dedb6_row1_col0\" class=\"data row1 col0\" >76.22%</td>\n",
       "            </tr>\n",
       "            <tr>\n",
       "                        <th id=\"T_dedb6_level0_row2\" class=\"row_heading level0 row2\" >HYG</th>\n",
       "                        <td id=\"T_dedb6_row2_col0\" class=\"data row2 col0\" >46.23%</td>\n",
       "            </tr>\n",
       "            <tr>\n",
       "                        <th id=\"T_dedb6_level0_row3\" class=\"row_heading level0 row3\" >TIP</th>\n",
       "                        <td id=\"T_dedb6_row3_col0\" class=\"data row3 col0\" >33.55%</td>\n",
       "            </tr>\n",
       "            <tr>\n",
       "                        <th id=\"T_dedb6_level0_row4\" class=\"row_heading level0 row4\" >DBC</th>\n",
       "                        <td id=\"T_dedb6_row4_col0\" class=\"data row4 col0\" >6.77%</td>\n",
       "            </tr>\n",
       "            <tr>\n",
       "                        <th id=\"T_dedb6_level0_row5\" class=\"row_heading level0 row5\" >EEM</th>\n",
       "                        <td id=\"T_dedb6_row5_col0\" class=\"data row5 col0\" >4.54%</td>\n",
       "            </tr>\n",
       "            <tr>\n",
       "                        <th id=\"T_dedb6_level0_row6\" class=\"row_heading level0 row6\" >EFA</th>\n",
       "                        <td id=\"T_dedb6_row6_col0\" class=\"data row6 col0\" >-0.26%</td>\n",
       "            </tr>\n",
       "            <tr>\n",
       "                        <th id=\"T_dedb6_level0_row7\" class=\"row_heading level0 row7\" >IYR</th>\n",
       "                        <td id=\"T_dedb6_row7_col0\" class=\"data row7 col0\" >-13.03%</td>\n",
       "            </tr>\n",
       "            <tr>\n",
       "                        <th id=\"T_dedb6_level0_row8\" class=\"row_heading level0 row8\" >PSP</th>\n",
       "                        <td id=\"T_dedb6_row8_col0\" class=\"data row8 col0\" >-14.10%</td>\n",
       "            </tr>\n",
       "            <tr>\n",
       "                        <th id=\"T_dedb6_level0_row9\" class=\"row_heading level0 row9\" >BWX</th>\n",
       "                        <td id=\"T_dedb6_row9_col0\" class=\"data row9 col0\" >-34.38%</td>\n",
       "            </tr>\n",
       "            <tr>\n",
       "                        <th id=\"T_dedb6_level0_row10\" class=\"row_heading level0 row10\" >QAI</th>\n",
       "                        <td id=\"T_dedb6_row10_col0\" class=\"data row10 col0\" >-153.19%</td>\n",
       "            </tr>\n",
       "    </tbody></table>"
      ],
      "text/plain": [
       "<pandas.io.formats.style.Styler at 0x7fa1fa2bd580>"
      ]
     },
     "execution_count": 9,
     "metadata": {},
     "output_type": "execute_result"
    }
   ],
   "source": [
    "# Allocation to tangency portfolio\n",
    "def tangency_portfolio_allocation(data, return_vector, inverse_covmat, target_return = 0.01*12):\n",
    "    one_vector = np.ones((11,1), dtype = int)\n",
    "    return (np.dot(np.dot(one_vector.transpose(), inverse_covmat), return_vector) / np.dot(np.dot(return_vector.transpose(), inverse_covmat), return_vector)) * target_return\n",
    "\n",
    "portfolio_weights = tangency_portfolio_weights * tangency_portfolio_allocation(data, return_vector, inverse_covmat, target_return = 0.01*12)\n",
    "pd.DataFrame(portfolio_weights, index = mean_vol_table.index, columns = ['Weights for the Target Portfolio']).sort_values('Weights for the Target Portfolio', ascending = False).style.format('{:,.2%}')"
   ]
  },
  {
   "cell_type": "markdown",
   "metadata": {},
   "source": [
    "#### (b) What is the mean, volatility, and Sharpe ratio for $w^p$?"
   ]
  },
  {
   "cell_type": "code",
   "execution_count": 10,
   "metadata": {},
   "outputs": [
    {
     "name": "stdout",
     "output_type": "stream",
     "text": [
      "Mean = 12.0%\n",
      "Volatality = 5.84%\n",
      "Sharpe Ratio = 2.05\n"
     ]
    }
   ],
   "source": [
    "mean = np.dot(return_vector.transpose(), portfolio_weights)\n",
    "volatality = np.dot(np.dot(portfolio_weights.transpose(), covmat), portfolio_weights) ** 0.5\n",
    "print(f'Mean = {round(float(mean)*100, 2)}%')\n",
    "print(f'Volatality = {round(float(volatality)*100, 2)}%')\n",
    "print(f'Sharpe Ratio = {round(float(mean/volatality), 2)}')"
   ]
  },
  {
   "cell_type": "markdown",
   "metadata": {},
   "source": [
    "#### (c) Discuss the allocation. In which assets is the portfolio most long? And short?"
   ]
  },
  {
   "cell_type": "code",
   "execution_count": 11,
   "metadata": {},
   "outputs": [
    {
     "name": "stdout",
     "output_type": "stream",
     "text": [
      "Portfolio is long on: ['DBC', 'EEM', 'HYG', 'IEF', 'SPY', 'TIP']\n",
      "Portfolio is short on: ['BWX', 'EFA', 'IYR', 'PSP', 'QAI']\n",
      "Portfolio is longest on: ['SPY']\n",
      "Portfolio is shortest on: ['QAI']\n"
     ]
    }
   ],
   "source": [
    "print('Portfolio is long on: '+ str(list(data.columns[np.where([portfolio_weights>0])[1]])))\n",
    "print('Portfolio is short on: '+ str(list(data.columns[np.where([portfolio_weights<0])[1]])))\n",
    "\n",
    "print('Portfolio is longest on: '+ str(list(data.columns[np.where([portfolio_weights == max(portfolio_weights)])[1]])))\n",
    "print('Portfolio is shortest on: '+ str(list(data.columns[np.where([portfolio_weights == min(portfolio_weights)])[1]])))"
   ]
  },
  {
   "cell_type": "markdown",
   "metadata": {},
   "source": [
    "#### (d) Does this line up with which assets have the strongest Sharpe ratios?"
   ]
  },
  {
   "cell_type": "markdown",
   "metadata": {},
   "source": [
    "No, the maximum Sharpe Ratio is SPY and lowest is BWX. This is because the allocation depends more on a combination of \n",
    "low covariances between the assets as well as their risk adjusted performance (Sharpe Ratio)"
   ]
  },
  {
   "cell_type": "markdown",
   "metadata": {},
   "source": [
    "### 5. Simple Portfolios\n",
    "#### (a) Calculate the performance of the equally-weighted portfolio over the sample. Rescale the entire weighting vector to have target mean $\\tilde{w} = .01$. Report its mean, volatility, and Sharpe ratio."
   ]
  },
  {
   "cell_type": "code",
   "execution_count": 12,
   "metadata": {},
   "outputs": [
    {
     "name": "stdout",
     "output_type": "stream",
     "text": [
      "Mean Return of the Equally Weighted Portfolio = 12.0%\n",
      "Volatality of the Equally Weighted Portfolio = 16.26%\n",
      "Sharpe Ratio of the Equally Weighted Portfolio= 0.74\n"
     ]
    }
   ],
   "source": [
    "#Equally Weighted Portfolio\n",
    "equal_weight_vector = np.array([data.shape[1] ** -1] * data.shape[1])\n",
    "mean_rescaler = 0.12/np.dot(return_vector.transpose(), equal_weight_vector)\n",
    "equal_weight_vector_rescaled = equal_weight_vector * mean_rescaler\n",
    "\n",
    "mean = np.dot(return_vector.transpose(), equal_weight_vector_rescaled)\n",
    "volatality = np.dot(np.dot(equal_weight_vector_rescaled.transpose(), covmat), equal_weight_vector_rescaled) ** 0.5\n",
    "\n",
    "print(f'Mean Return of the Equally Weighted Portfolio = {round(float(mean)*100, 2)}%')\n",
    "print(f'Volatality of the Equally Weighted Portfolio = {round(float(volatality)*100, 2)}%')\n",
    "print(f'Sharpe Ratio of the Equally Weighted Portfolio= {round(float(mean/volatality), 2)}')"
   ]
  },
  {
   "cell_type": "markdown",
   "metadata": {},
   "source": [
    "#### (b) Calculate the performance of the \"risk-parity\" portfolio over the sample. Risk-parity is a term used in a variety of ways, but here we have in mind setting the weight of the portfolio to be proportional to the inverse of its full-sample volatility estimate.\n",
    "$\n",
    "w^i = \\frac{1}{\\sigma_i}\n",
    "$\n",
    "This will give the weight vector, $w$, but you will need to rescale it to have a target mean of $\\tilde{\\mu} = .01$."
   ]
  },
  {
   "cell_type": "code",
   "execution_count": 13,
   "metadata": {},
   "outputs": [
    {
     "name": "stdout",
     "output_type": "stream",
     "text": [
      "Mean return of risk parity portfolio = 12.0%\n",
      "Volatality of risk parity portfolio = 15.25%\n",
      "Sharpe Ratio of risk parity portfolio = 0.79\n"
     ]
    }
   ],
   "source": [
    "# Risk Parity Portfolio: For the Risk Averse\n",
    "risk_parity_portfolio_vector = np.array(mean_vol_table['Annual_Std'])**-1\n",
    "mean_rescaler = 0.12/np.dot(return_vector.transpose(), risk_parity_portfolio_vector)\n",
    "risk_parity_portfolio_vector_rescaled = risk_parity_portfolio_vector * mean_rescaler\n",
    "\n",
    "mean = np.dot(return_vector.transpose(), risk_parity_portfolio_vector_rescaled)\n",
    "volatality = np.dot(np.dot(risk_parity_portfolio_vector_rescaled.transpose(), covmat), risk_parity_portfolio_vector_rescaled) ** 0.5\n",
    "\n",
    "print(f'Mean return of risk parity portfolio = {round(float(mean)*100, 2)}%')\n",
    "print(f'Volatality of risk parity portfolio = {round(float(volatality)*100, 2)}%')\n",
    "print(f'Sharpe Ratio of risk parity portfolio = {round(float(mean/volatality), 2)}')"
   ]
  },
  {
   "cell_type": "markdown",
   "metadata": {},
   "source": [
    "#### (c) How does these compare to the MV portfolio from problem 2.4?"
   ]
  },
  {
   "cell_type": "markdown",
   "metadata": {},
   "source": [
    "Both, Equally-Weighted and Risk-Parity portfolios give similar returns to the MV portfolio.\n",
    "However, since these portfolios, do not maximze Sharpe-Ratio, they have greater portfolio volatality "
   ]
  },
  {
   "cell_type": "markdown",
   "metadata": {},
   "source": [
    "### 6. Out-of-Sample Performance\n",
    "Let's divide the sample to both compute a portfolio and then check its performance out of\n",
    "sample.\n",
    "\n",
    "#### (a) Using only data through the end of 2020, compute $w^p$ for $\\tilde{\\mu}^p = .01$, allocating to all 11 assets."
   ]
  },
  {
   "cell_type": "code",
   "execution_count": 14,
   "metadata": {},
   "outputs": [
    {
     "data": {
      "text/html": [
       "<style  type=\"text/css\" >\n",
       "</style><table id=\"T_40b21_\" ><thead>    <tr>        <th class=\"blank level0\" ></th>        <th class=\"col_heading level0 col0\" >Weights for the Target Portfolio</th>    </tr></thead><tbody>\n",
       "                <tr>\n",
       "                        <th id=\"T_40b21_level0_row0\" class=\"row_heading level0 row0\" >IEF</th>\n",
       "                        <td id=\"T_40b21_row0_col0\" class=\"data row0 col0\" >84.48%</td>\n",
       "            </tr>\n",
       "            <tr>\n",
       "                        <th id=\"T_40b21_level0_row1\" class=\"row_heading level0 row1\" >SPY</th>\n",
       "                        <td id=\"T_40b21_row1_col0\" class=\"data row1 col0\" >78.54%</td>\n",
       "            </tr>\n",
       "            <tr>\n",
       "                        <th id=\"T_40b21_level0_row2\" class=\"row_heading level0 row2\" >HYG</th>\n",
       "                        <td id=\"T_40b21_row2_col0\" class=\"data row2 col0\" >46.14%</td>\n",
       "            </tr>\n",
       "            <tr>\n",
       "                        <th id=\"T_40b21_level0_row3\" class=\"row_heading level0 row3\" >TIP</th>\n",
       "                        <td id=\"T_40b21_row3_col0\" class=\"data row3 col0\" >5.69%</td>\n",
       "            </tr>\n",
       "            <tr>\n",
       "                        <th id=\"T_40b21_level0_row4\" class=\"row_heading level0 row4\" >EEM</th>\n",
       "                        <td id=\"T_40b21_row4_col0\" class=\"data row4 col0\" >2.71%</td>\n",
       "            </tr>\n",
       "            <tr>\n",
       "                        <th id=\"T_40b21_level0_row5\" class=\"row_heading level0 row5\" >PSP</th>\n",
       "                        <td id=\"T_40b21_row5_col0\" class=\"data row5 col0\" >-2.48%</td>\n",
       "            </tr>\n",
       "            <tr>\n",
       "                        <th id=\"T_40b21_level0_row6\" class=\"row_heading level0 row6\" >BWX</th>\n",
       "                        <td id=\"T_40b21_row6_col0\" class=\"data row6 col0\" >-3.90%</td>\n",
       "            </tr>\n",
       "            <tr>\n",
       "                        <th id=\"T_40b21_level0_row7\" class=\"row_heading level0 row7\" >DBC</th>\n",
       "                        <td id=\"T_40b21_row7_col0\" class=\"data row7 col0\" >-7.08%</td>\n",
       "            </tr>\n",
       "            <tr>\n",
       "                        <th id=\"T_40b21_level0_row8\" class=\"row_heading level0 row8\" >EFA</th>\n",
       "                        <td id=\"T_40b21_row8_col0\" class=\"data row8 col0\" >-7.62%</td>\n",
       "            </tr>\n",
       "            <tr>\n",
       "                        <th id=\"T_40b21_level0_row9\" class=\"row_heading level0 row9\" >IYR</th>\n",
       "                        <td id=\"T_40b21_row9_col0\" class=\"data row9 col0\" >-20.90%</td>\n",
       "            </tr>\n",
       "            <tr>\n",
       "                        <th id=\"T_40b21_level0_row10\" class=\"row_heading level0 row10\" >QAI</th>\n",
       "                        <td id=\"T_40b21_row10_col0\" class=\"data row10 col0\" >-119.78%</td>\n",
       "            </tr>\n",
       "    </tbody></table>"
      ],
      "text/plain": [
       "<pandas.io.formats.style.Styler at 0x7fa1fc77ef10>"
      ]
     },
     "execution_count": 14,
     "metadata": {},
     "output_type": "execute_result"
    }
   ],
   "source": [
    "insample_data = data.loc[data.index < '2021-01-01']\n",
    "outsample_data = data.loc['2021']\n",
    "\n",
    "insample_return_vector = insample_data.mean()*12\n",
    "outsample_return_vector = outsample_data.mean()*12\n",
    "\n",
    "intime_inv_covmat = np.linalg.inv(insample_data.cov()*12)\n",
    "outtime_inv_covmat = np.linalg.inv(outsample_data.cov()*12)\n",
    "\n",
    "tangency_portfolio_weights = tangency_portfolio(insample_data, insample_return_vector, intime_inv_covmat)\n",
    "portfolio_weights = tangency_portfolio_weights * tangency_portfolio_allocation(insample_data, insample_return_vector, intime_inv_covmat)\n",
    "pd.DataFrame(portfolio_weights, index = mean_vol_table.index, columns = ['Weights for the Target Portfolio']).sort_values('Weights for the Target Portfolio', ascending = False).style.format('{:,.2%}')"
   ]
  },
  {
   "cell_type": "markdown",
   "metadata": {},
   "source": [
    "#### (b) Using those weights, calculate the portfolio’s Sharpe ratio within that sample, through the end of 2021."
   ]
  },
  {
   "cell_type": "code",
   "execution_count": 15,
   "metadata": {},
   "outputs": [
    {
     "name": "stdout",
     "output_type": "stream",
     "text": [
      "Mean = 9.0598%\n",
      "Sharpe Ratio = 1.36\n"
     ]
    }
   ],
   "source": [
    "mean = np.dot(outsample_return_vector.transpose(), portfolio_weights)\n",
    "volatality = np.dot(np.dot(portfolio_weights.transpose(), outsample_data.cov()*12), portfolio_weights) ** 0.5\n",
    "print(f'Mean = {round(float(mean)*100, 4)}%')\n",
    "print(f'Sharpe Ratio = {round(float(mean/volatality), 2)}')"
   ]
  },
  {
   "cell_type": "markdown",
   "metadata": {},
   "source": [
    "#### (c) Again using those weights, (derived using data through 2020,) calculate the portfolio’s Sharpe ratio based on performance in 2022."
   ]
  },
  {
   "cell_type": "code",
   "execution_count": 16,
   "metadata": {},
   "outputs": [
    {
     "name": "stdout",
     "output_type": "stream",
     "text": [
      "Mean = -25.8593%\n",
      "Sharpe Ratio = -1.97\n"
     ]
    }
   ],
   "source": [
    "outsample_data = data.loc['2022']\n",
    "outsample_return_vector = outsample_data.mean()*12\n",
    "\n",
    "mean = np.dot(outsample_return_vector.transpose(), portfolio_weights)\n",
    "volatality = np.dot(np.dot(portfolio_weights.transpose(), outsample_data.cov()*12), portfolio_weights) ** 0.5\n",
    "print(f'Mean = {round(float(mean)*100, 4)}%')\n",
    "print(f'Sharpe Ratio = {round(float(mean/volatality), 2)}')"
   ]
  }
 ],
 "metadata": {
  "interpreter": {
   "hash": "f6d5cac9967d36a68534a233eb03728be3b97600d649ddf8798158979807cedd"
  },
  "kernelspec": {
   "display_name": "Python 3 (ipykernel)",
   "language": "python",
   "name": "python3"
  },
  "language_info": {
   "codemirror_mode": {
    "name": "ipython",
    "version": 3
   },
   "file_extension": ".py",
   "mimetype": "text/x-python",
   "name": "python",
   "nbconvert_exporter": "python",
   "pygments_lexer": "ipython3",
   "version": "3.8.8"
  }
 },
 "nbformat": 4,
 "nbformat_minor": 2
}
